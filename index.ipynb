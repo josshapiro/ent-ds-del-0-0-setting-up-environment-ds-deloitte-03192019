{
 "cells": [
  {
   "cell_type": "markdown",
   "metadata": {},
   "source": [
    "# Setting Up Your Environment\n",
    "\n",
    "\n",
    "## Introduction\n",
    "The purpose of this course is to help you to work with data more efficiently. But before we can do that, we need to run you through the process of setting up your local environment by installing and configuring the right software.\n",
    "\n",
    "## The Importance of Installation\n",
    "In the past, you might have not taken much notice of software installs. You either just double clicked on a package or let your IT team care of it for you.\n",
    "\n",
    "But now you're learning to code! And as a programmer, it's important to really understand and be comfortable with the tools that you use. Because of that, it's important to build confidence and competence in installing and configuring the software you'll need to get your job done.\n",
    "\n",
    "Firstly it'll help any time you need to move to a new laptop and have to set up your environment again. Secondly, it'll help if you ever have to re-install elements of your environment because they aren't working correctly (unfortunately, when you're programming, this will happen from time to time). Finally, it'll also give you more insight into what tools you're using and how they work, so if you need to change your settings or are running into problems getting your code to work, you'll have more options for getting things working again.\n",
    "\n",
    "## Introducing \"the Stack\"\n",
    "Most programmers have a stack (a set of tools) that they work with. Data analysts and data scientists are no exception. The key tools in your stack (to start with) are Anaconda, Git, GitHub and Jupyter Notebook. In the following lessons we'll introduce, install and configure each of those tools one at a time.\n"
   ]
  }
 ],
 "metadata": {
  "kernelspec": {
   "display_name": "Python 3",
   "language": "python",
   "name": "python3"
  },
  "language_info": {
   "codemirror_mode": {
    "name": "ipython",
    "version": 3
   },
   "file_extension": ".py",
   "mimetype": "text/x-python",
   "name": "python",
   "nbconvert_exporter": "python",
   "pygments_lexer": "ipython3",
   "version": "3.6.6"
  }
 },
 "nbformat": 4,
 "nbformat_minor": 2
}
